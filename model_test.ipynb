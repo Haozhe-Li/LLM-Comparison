{
 "cells": [
  {
   "cell_type": "code",
   "execution_count": null,
   "metadata": {},
   "outputs": [],
   "source": [
    "# import statement\n",
    "from groq import Groq\n",
    "from openai import OpenAI\n",
    "from codes.utils import *\n",
    "import time\n",
    "import os\n",
    "import json\n",
    "import numpy as np\n",
    "import matplotlib.pyplot as plt\n",
    "import re\n",
    "from scipy.stats import linregress"
   ]
  },
  {
   "cell_type": "code",
   "execution_count": null,
   "metadata": {},
   "outputs": [],
   "source": [
    "# parameters initialization\n",
    "groq_client = Groq(\n",
    "    api_key=os.environ[\"GROQ_API_KEY\"],\n",
    ")\n",
    "\n",
    "openai_client = OpenAI(api_key=os.environ.get(\"OPENAI_API_KEY\"))\n",
    "\n",
    "models = [\"llama3-70b-8192\", \"gpt-3.5-turbo-0125\", \"gpt-4o-2024-05-13\"]\n",
    "\n",
    "testing_messages = extract_messages_from_json(\"logs.json\")[:50]"
   ]
  },
  {
   "cell_type": "code",
   "execution_count": null,
   "metadata": {},
   "outputs": [],
   "source": [
    "def plot_model_comparison(results):\n",
    "    models = [result['model'] for result in results]\n",
    "    avg_times = [result['avg_time'] for result in results]\n",
    "    fail_rates = [result['fail'] / result['overall_query'] for result in results]\n",
    "    query_len_vs_time = [result['query_len_vs_time'] for result in results]\n",
    "    model_colors = {\n",
    "        'llama3-70b-8192': 'blue',\n",
    "        'gpt-3.5-turbo-0125': 'green',\n",
    "        'gpt-4o-2024-05-13': 'orange'\n",
    "    }\n",
    "    \n",
    "    # first graph: average time comparison\n",
    "    plt.figure(figsize=(10, 6))\n",
    "    plt.bar(models, avg_times, color=[model_colors[model] for model in models])\n",
    "    plt.xlabel('Model')\n",
    "    plt.ylabel('Average Time (s)')\n",
    "    plt.title('Average Time Comparison')\n",
    "    plt.show()\n",
    "    \n",
    "    # second graph: failure rate comparison\n",
    "    plt.figure(figsize=(10, 6))\n",
    "    plt.bar(models, fail_rates, color=[model_colors[model] for model in models])\n",
    "    plt.xlabel('Model')\n",
    "    plt.ylabel('Failure Rate')\n",
    "    plt.title('Failure Rate Comparison')\n",
    "    plt.show()\n",
    "    \n",
    "    # third graph: query length vs time taken with regression lines\n",
    "    plt.figure(figsize=(10, 6))\n",
    "\n",
    "    for model, qlt in zip(models, query_len_vs_time):\n",
    "        query_lengths = np.array(list(qlt.keys()))\n",
    "        times = np.array([sum(times_list) / len(times_list) for times_list in qlt.values()])\n",
    "        plt.scatter(query_lengths, times, label=model, color=model_colors[model])\n",
    "        \n",
    "        # Calculate and plot regression line\n",
    "        slope, intercept, r_value, p_value, std_err = linregress(query_lengths, times)\n",
    "        line = slope * query_lengths + intercept\n",
    "        plt.plot(query_lengths, line, color=model_colors[model], label=f'{model} regression')\n",
    "\n",
    "    plt.xlabel('Query Length')\n",
    "    plt.ylabel('Time Taken (s)')\n",
    "    plt.title('Query Length vs Time Taken')\n",
    "    plt.legend()\n",
    "    plt.show()"
   ]
  },
  {
   "cell_type": "code",
   "execution_count": null,
   "metadata": {},
   "outputs": [],
   "source": [
    "# main testing function\n",
    "results = []\n",
    "for model in models:\n",
    "    client = openai_client if \"gpt\" in model else groq_client\n",
    "    result = non_concurrent_test(testing_messages=testing_messages, testing_model=model, testing_client=client)\n",
    "    results.append(result)\n",
    "    print(f\"Finished testing {model}, waiting for 1 second...\")\n",
    "    time.sleep(1)\n",
    "\n",
    "# save results\n",
    "with open(\"results.json\", \"w\") as f:\n",
    "    json.dump(results, f)\n",
    "\n",
    "\n",
    "plot_model_comparison(results)\n",
    "for result in results:\n",
    "    print(f\"Model: {result['model']}\")\n",
    "    print(f\"Average time: {result['avg_time']}\")\n",
    "    print(f\"Fail rate: {result['fail'] / (result['fail'] + result['success'])}\")\n",
    "    print(f\"Overall query: {result['overall_query']}\")"
   ]
  }
 ],
 "metadata": {
  "kernelspec": {
   "display_name": "base",
   "language": "python",
   "name": "python3"
  },
  "language_info": {
   "codemirror_mode": {
    "name": "ipython",
    "version": 3
   },
   "file_extension": ".py",
   "mimetype": "text/x-python",
   "name": "python",
   "nbconvert_exporter": "python",
   "pygments_lexer": "ipython3",
   "version": "3.11.5"
  }
 },
 "nbformat": 4,
 "nbformat_minor": 2
}
